{
 "cells": [
  {
   "cell_type": "code",
   "execution_count": null,
   "id": "747dc59c",
   "metadata": {},
   "outputs": [],
   "source": [
    "#This code lets the users to calculate their BMI\n",
    "\n",
    "print('Enter the informations')\n",
    "\n",
    "#Ask the user to enter their height in meters and weight in kgs using input function and the height is converted to float\n",
    "height = float (input('height in meters : '))\n",
    "weight = float (input('weight in kgs : '))\n",
    "\n",
    "#formula to calculate the BMI and the value is stored in bmi variable\n",
    "bmi = weight / height ** 2\n",
    "\n",
    "print('Your bmi is ' + str(bmi))\n",
    "\n",
    "#conditional statement to check, to which category the BMI stand at.\n",
    "if bmi < 18.5:\n",
    "    print('underweight')\n",
    "elif bmi < 30:\n",
    "    print('normal')\n",
    "else:\n",
    "    print('obse')"
   ]
  }
 ],
 "metadata": {
  "kernelspec": {
   "display_name": "Python 3",
   "language": "python",
   "name": "python3"
  },
  "language_info": {
   "codemirror_mode": {
    "name": "ipython",
    "version": 3
   },
   "file_extension": ".py",
   "mimetype": "text/x-python",
   "name": "python",
   "nbconvert_exporter": "python",
   "pygments_lexer": "ipython3",
   "version": "3.8.8"
  }
 },
 "nbformat": 4,
 "nbformat_minor": 5
}
