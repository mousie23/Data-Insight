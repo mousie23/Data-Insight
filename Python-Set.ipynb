{
 "cells": [
  {
   "cell_type": "code",
   "execution_count": null,
   "id": "19e73e5b",
   "metadata": {},
   "outputs": [],
   "source": [
    "#creating Sets\n",
    "\n",
    "#set of integers\n",
    "my_set1 = {1, 2, 3, 4}\n",
    "\n",
    "#set of mixed datatype \n",
    "my_set2 = {5.4, (1,2,3), 'python'}\n",
    "\n",
    "#empty set\n",
    "my_set3 = set() \n",
    "\n",
    "#set created from list\n",
    "my_set4 = set([1, 2, 3])"
   ]
  },
  {
   "cell_type": "code",
   "execution_count": 2,
   "id": "3ad38b36",
   "metadata": {},
   "outputs": [
    {
     "name": "stdout",
     "output_type": "stream",
     "text": [
      "{1, 2, 3, 4}\n",
      "{1, 2, 3, 4, 5, 6, 7, 8, 9}\n"
     ]
    }
   ],
   "source": [
    "#Modifying set\n",
    "\n",
    "#adding elements\n",
    "#add() method to add single element\n",
    "my_set = {1, 3, 4}\n",
    "my_set.add(2)\n",
    "print(my_set)\n",
    "\n",
    "#update() method to add multiple elements\n",
    "my_set1 = {1, 3, 5, 7}\n",
    "my_set1.update([2, 4], {6, 8, 9})\n",
    "print(my_set1)"
   ]
  },
  {
   "cell_type": "code",
   "execution_count": 4,
   "id": "0c803b5a",
   "metadata": {},
   "outputs": [
    {
     "name": "stdout",
     "output_type": "stream",
     "text": [
      "{1, 2, 3, 6}\n",
      "{1, 2, 3, 6}\n",
      "{1, 2, 5, 6}\n"
     ]
    },
    {
     "ename": "KeyError",
     "evalue": "4",
     "output_type": "error",
     "traceback": [
      "\u001b[1;31m---------------------------------------------------------------------------\u001b[0m",
      "\u001b[1;31mKeyError\u001b[0m                                  Traceback (most recent call last)",
      "\u001b[1;32m<ipython-input-4-82da8a816663>\u001b[0m in \u001b[0;36m<module>\u001b[1;34m\u001b[0m\n\u001b[0;32m     14\u001b[0m \u001b[0mprint\u001b[0m\u001b[1;33m(\u001b[0m\u001b[0mmy_set1\u001b[0m\u001b[1;33m)\u001b[0m\u001b[1;33m\u001b[0m\u001b[1;33m\u001b[0m\u001b[0m\n\u001b[0;32m     15\u001b[0m \u001b[1;33m\u001b[0m\u001b[0m\n\u001b[1;32m---> 16\u001b[1;33m \u001b[0mmy_set1\u001b[0m\u001b[1;33m.\u001b[0m\u001b[0mremove\u001b[0m\u001b[1;33m(\u001b[0m\u001b[1;36m4\u001b[0m\u001b[1;33m)\u001b[0m\u001b[1;33m\u001b[0m\u001b[1;33m\u001b[0m\u001b[0m\n\u001b[0m\u001b[0;32m     17\u001b[0m \u001b[0mprint\u001b[0m\u001b[1;33m(\u001b[0m\u001b[0mmy_set1\u001b[0m\u001b[1;33m)\u001b[0m\u001b[1;33m\u001b[0m\u001b[1;33m\u001b[0m\u001b[0m\n",
      "\u001b[1;31mKeyError\u001b[0m: 4"
     ]
    }
   ],
   "source": [
    "#removing elements by discard() and remove() methods\n",
    "\n",
    "#discard() method leaves the set unchanged if the element is absent in the set\n",
    "my_set = {1, 2, 3, 4, 6}\n",
    "my_set.discard(4)\n",
    "print(my_set)\n",
    "\n",
    "my_set.discard(5)\n",
    "print(my_set)\n",
    "\n",
    "#remove() method will raise error if the element is absent in the set\n",
    "my_set1= {1, 2, 3, 5, 6}\n",
    "my_set1.remove(3)\n",
    "print(my_set1)\n",
    "\n",
    "my_set1.remove(4)\n",
    "print(my_set1)"
   ]
  },
  {
   "cell_type": "code",
   "execution_count": null,
   "id": "c6d697cc",
   "metadata": {},
   "outputs": [],
   "source": []
  }
 ],
 "metadata": {
  "kernelspec": {
   "display_name": "Python 3",
   "language": "python",
   "name": "python3"
  },
  "language_info": {
   "codemirror_mode": {
    "name": "ipython",
    "version": 3
   },
   "file_extension": ".py",
   "mimetype": "text/x-python",
   "name": "python",
   "nbconvert_exporter": "python",
   "pygments_lexer": "ipython3",
   "version": "3.8.8"
  }
 },
 "nbformat": 4,
 "nbformat_minor": 5
}
