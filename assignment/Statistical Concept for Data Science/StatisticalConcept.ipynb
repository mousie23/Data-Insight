{
 "cells": [
  {
   "cell_type": "markdown",
   "id": "0de05675-020f-485b-a014-3c403b39fbaf",
   "metadata": {
    "id": "bA5ajAmk7XH6"
   },
   "source": [
    "# Statistical Concept For Data Science"
   ]
  },
  {
   "cell_type": "markdown",
   "id": "8e323a9e-1d63-48f5-9217-8fea82cd5c09",
   "metadata": {},
   "source": [
    "# 1. Measures of Central Tendency"
   ]
  },
  {
   "cell_type": "code",
   "execution_count": 2,
   "id": "1bf27090-2a9b-438f-963a-10484c8866cd",
   "metadata": {},
   "outputs": [],
   "source": [
    "# Import necessary libries\n",
    "import statistics\n",
    "import pandas as pd\n",
    "import numpy as np\n",
    "import matplotlib.pyplot as plt\n",
    "from scipy.stats import norm\n",
    "from scipy import stats\n",
    "import seaborn as sns"
   ]
  },
  {
   "cell_type": "code",
   "execution_count": 2,
   "id": "a9c46555-4cf1-4867-8de7-1ad5a6527cea",
   "metadata": {},
   "outputs": [
    {
     "data": {
      "text/plain": [
       "4.5"
      ]
     },
     "execution_count": 2,
     "metadata": {},
     "output_type": "execute_result"
    }
   ],
   "source": [
    "#mean: to get the average value of the datasets\n",
    "statistics.mean([1,3,3,5,7,8])\n"
   ]
  },
  {
   "cell_type": "code",
   "execution_count": 6,
   "id": "5598367d-3c18-40a2-a23e-9df935d72af4",
   "metadata": {},
   "outputs": [
    {
     "data": {
      "text/plain": [
       "5"
      ]
     },
     "execution_count": 6,
     "metadata": {},
     "output_type": "execute_result"
    }
   ],
   "source": [
    "#Median: to get the middle value of the dataset.\n",
    "statistics.median([1,3,5,7,9])"
   ]
  },
  {
   "cell_type": "code",
   "execution_count": 5,
   "id": "d842ea27-adca-4df7-90d4-f9fd5fff30c2",
   "metadata": {},
   "outputs": [
    {
     "data": {
      "text/plain": [
       "3"
      ]
     },
     "execution_count": 5,
     "metadata": {},
     "output_type": "execute_result"
    }
   ],
   "source": [
    "#Mode: to get most frequent value in the dataset.\n",
    "statistics.mode([1,3,3,5,7,8])"
   ]
  },
  {
   "cell_type": "markdown",
   "id": "c916f33b-6a03-493c-992b-418f2fc783b6",
   "metadata": {},
   "source": [
    "# 2. Population Vs Sample"
   ]
  },
  {
   "cell_type": "markdown",
   "id": "c60fca03-cd6b-4e69-9f52-6849248e46c4",
   "metadata": {},
   "source": [
    "In statistis population refers to the entire set of data for the statistical study.  It can be a group of individuals, objects, events, organizations, etc. \n",
    "An Example of Polulation could be all the students in a school.\n",
    "It is not always feasible to do analysis on population because we cannot collect all the data of a population. Therefore, we use samples.\n",
    "\n",
    "A sample represents a group of datas selected from the population. Samples should be randomly selected and should represent the entire population within it."
   ]
  },
  {
   "cell_type": "markdown",
   "id": "dfed4e9a-18c8-4d5b-b8aa-5834e7f5dd54",
   "metadata": {},
   "source": [
    "# 3. Variance and Standard Deviation"
   ]
  },
  {
   "cell_type": "markdown",
   "id": "bd1cb4a9-ce6a-4389-983f-0b3c79195da4",
   "metadata": {},
   "source": [
    "Standard Deviation is a measure of spread in Statistics. A low standard deviation means that most of the numbers are close to the mean value. A high standard deviation means that the values are spread out over a wider range.\n",
    "Variance is another number that indicates how spread out the values are. Vairance is the square of Standard deviation."
   ]
  },
  {
   "cell_type": "code",
   "execution_count": 12,
   "id": "1bffa03f-dc21-49b7-b477-674ab80d6bac",
   "metadata": {},
   "outputs": [
    {
     "name": "stdout",
     "output_type": "stream",
     "text": [
      "37.84501153334721\n"
     ]
    }
   ],
   "source": [
    "speed = [32,111,138,28,59,77,97]\n",
    "x = np.std(speed)\n",
    "print(x)"
   ]
  },
  {
   "cell_type": "markdown",
   "id": "a6c1e810-f4dd-41b6-b5ce-ee5a556ddc9c",
   "metadata": {},
   "source": [
    "Variance is another number that indicates how spread out the values are. Vairance is the square of Standard deviation."
   ]
  },
  {
   "cell_type": "code",
   "execution_count": 13,
   "id": "0ea376e8-963f-4086-a2b7-bd592d982b79",
   "metadata": {},
   "outputs": [
    {
     "name": "stdout",
     "output_type": "stream",
     "text": [
      "1432.2448979591834\n"
     ]
    }
   ],
   "source": [
    "speed = [32,111,138,28,59,77,97]\n",
    "x = np.var(speed)\n",
    "print(x)"
   ]
  },
  {
   "cell_type": "markdown",
   "id": "488c5b4e-d9e3-4ade-95f4-dff19f039cb0",
   "metadata": {},
   "source": [
    "# 4. Normal Distribution"
   ]
  },
  {
   "cell_type": "markdown",
   "id": "69fa82c1-ad75-4d51-925d-6abfad9fedee",
   "metadata": {},
   "source": [
    "Normal distribution can be thought like a bell curve with most of its values scattered around it's central peak called the mean of the distribution. Here the probability of getting values near the mean is higher than the values away from the mean. \n",
    "The points in normal distribution are symmetrical"
   ]
  },
  {
   "cell_type": "code",
   "execution_count": 6,
   "id": "827e1337-1d53-49cb-afc5-72a09ff5a8a9",
   "metadata": {},
   "outputs": [],
   "source": [
    "#we will create a normal distribution with mean 5 and standard deviation 10\n",
    "m = 5\n",
    "std = 10\n",
    "snd = norm(m, std)"
   ]
  },
  {
   "cell_type": "code",
   "execution_count": 7,
   "id": "5d2e1d8b-da27-4e67-9ea4-1a39f8f5b9a0",
   "metadata": {},
   "outputs": [],
   "source": [
    "# To generate 1000 random values between -100, 100\n",
    "x = np.linspace(-100, 100, 1000)"
   ]
  },
  {
   "cell_type": "code",
   "execution_count": 8,
   "id": "6a7ed516-c9bd-44f4-acee-9e60bf115936",
   "metadata": {},
   "outputs": [
    {
     "data": {
      "image/png": "[encoded data removed]",
      "text/plain": [
       "<Figure size 540x540 with 1 Axes>"
      ]
     },
     "metadata": {
      "needs_background": "light"
     },
     "output_type": "display_data"
    }
   ],
   "source": [
    "# Plot the normal distribution curve for different values of random variable falling in the range -100 to 100\n",
    "\n",
    "plt.figure(figsize=(7.5,7.5))\n",
    "plt.plot(x, snd.pdf(x))\n",
    "plt.xlim(-60, 60)\n",
    "plt.title('Normal Distribution Curve (Mean = 5, STD = 10)', fontsize='10')\n",
    "plt.xlabel('Values of Random Variable X', fontsize='15')\n",
    "plt.ylabel('Probability', fontsize='15')\n",
    "plt.show()"
   ]
  },
  {
   "cell_type": "markdown",
   "id": "3ba30588-dbbc-471e-9d62-f16872e53cc3",
   "metadata": {},
   "source": [
    "# 5. Skewness"
   ]
  },
  {
   "cell_type": "markdown",
   "id": "02888f85-277a-44be-84c9-0d4b672b78a7",
   "metadata": {},
   "source": [
    "Skewness is asymmetry that deviates from the symmetrical bell curve, or normal distribution curve in a set of data, it measures the level of how much a given distribution is different from a normal distribution. If the curve is shifted to the left or to the right, it is said to be skewed. \n",
    "Positive skew : when the distribution has a thicker right tail and mode<median<mean.\n",
    "Negative skew : when the distribution has a thicker left tail and mode>median>mean.\n",
    "Zero :  when the distribution is symmetric about its mean and approximately mode=median=mean."
   ]
  },
  {
   "cell_type": "markdown",
   "id": "d62299ec-e603-4c2d-b0b1-89e1ef4669ed",
   "metadata": {},
   "source": [
    "# 6. Central Limit Theorem"
   ]
  },
  {
   "cell_type": "markdown",
   "id": "264f03da-a05f-417f-b0cb-d1ecf7d25f4e",
   "metadata": {},
   "source": [
    "The Central Limit Theorem states that the sampling distribution of the sample means approaches a normal distribution as the sample size gets larger, no matter what the shape of the population distribution is."
   ]
  },
  {
   "cell_type": "code",
   "execution_count": 19,
   "id": "42456dd4-c19e-4d4b-bb98-67b451e61661",
   "metadata": {},
   "outputs": [
    {
     "name": "stdout",
     "output_type": "stream",
     "text": [
      "0    1\n",
      "1    2\n",
      "4    5\n",
      "5    6\n",
      "1    2\n",
      "3    4\n",
      "5    6\n",
      "2    3\n",
      "0    1\n",
      "0    1\n",
      "dtype: int64\n"
     ]
    }
   ],
   "source": [
    "#lets roll a die 10 times\n",
    "die = pd.Series([1, 2, 3, 4, 5, 6])\n",
    "\n",
    "roll_die = die.sample(10, replace=True)\n",
    "print(roll_die)"
   ]
  },
  {
   "cell_type": "code",
   "execution_count": 24,
   "id": "336b9356-1674-4d18-bec6-d50451397377",
   "metadata": {},
   "outputs": [
    {
     "name": "stdout",
     "output_type": "stream",
     "text": [
      "[3.7, 3.1, 4.3, 4.5, 3.5, 2.9, 3.3, 4.4, 4.1, 4.6]\n"
     ]
    },
    {
     "data": {
      "image/png": "[encoded data removed]",
      "text/plain": [
       "<Figure size 432x288 with 1 Axes>"
      ]
     },
     "metadata": {
      "needs_background": "light"
     },
     "output_type": "display_data"
    }
   ],
   "source": [
    "# Rolling the dice 10 times 10 times\n",
    "sample_means = []\n",
    "for i in range(10):\n",
    "    roll_die = die.sample(10, replace=True)\n",
    "    sample_means.append(np.mean(roll_die))\n",
    "print(sample_means)\n",
    "# Convert to Series and plot histogram\n",
    "sample_means_series = pd.Series(sample_means)\n",
    "sample_means_series.hist()\n",
    "# Show plot\n",
    "plt.show()"
   ]
  },
  {
   "cell_type": "code",
   "execution_count": 25,
   "id": "34db0f7d-0c8b-4824-b6f2-776cb6ef1c1a",
   "metadata": {},
   "outputs": [
    {
     "data": {
      "image/png": "[encoded data removed]",
      "text/plain": [
       "<Figure size 432x288 with 1 Axes>"
      ]
     },
     "metadata": {
      "needs_background": "light"
     },
     "output_type": "display_data"
    }
   ],
   "source": [
    "# 100 sample means\n",
    "sample_means = []\n",
    "for i in range(100):\n",
    "    sample_means.append(np.mean(die.sample(10, replace=True)))\n",
    "# Convert to Series and plot histogram\n",
    "sample_means_series = pd.Series(sample_means)\n",
    "sample_means_series.hist()\n",
    "# Show plot\n",
    "plt.show()"
   ]
  },
  {
   "cell_type": "code",
   "execution_count": 26,
   "id": "897c32e3-62d2-4343-8f48-ccf16998b446",
   "metadata": {},
   "outputs": [
    {
     "data": {
      "image/png": "[encoded data removed]",
      "text/plain": [
       "<Figure size 432x288 with 1 Axes>"
      ]
     },
     "metadata": {
      "needs_background": "light"
     },
     "output_type": "display_data"
    }
   ],
   "source": [
    "# 1000 sample means\n",
    "sample_means = []\n",
    "for i in range(1000):\n",
    "    sample_means.append(np.mean(die.sample(10, replace=True)))\n",
    "    \n",
    "# Convert to Series and plot histogram\n",
    "sample_means_series = pd.Series(sample_means)\n",
    "sample_means_series.hist()\n",
    "# Show plot\n",
    "plt.show()"
   ]
  },
  {
   "cell_type": "markdown",
   "id": "6bc40aa8-2df6-4766-a722-aedf9ead88ae",
   "metadata": {},
   "source": [
    "From above we came to know that as we keep on increasing the sample size our sample mean tends to show normal distribution curve."
   ]
  },
  {
   "cell_type": "markdown",
   "id": "3c44213f-2dec-4730-9bcd-c15d13c6e7c1",
   "metadata": {},
   "source": [
    "# 7. Percentiles"
   ]
  },
  {
   "cell_type": "markdown",
   "id": "ebf0360d-fe48-4117-9197-d40c5a4e1154",
   "metadata": {},
   "source": [
    "Percentiles are used in statistics to give a number that describes the value that a given percent of the values are lower than."
   ]
  },
  {
   "cell_type": "code",
   "execution_count": 28,
   "id": "a39ffb18-1d46-49dc-a817-a319ef72f678",
   "metadata": {},
   "outputs": [
    {
     "name": "stdout",
     "output_type": "stream",
     "text": [
      "43.0\n"
     ]
    }
   ],
   "source": [
    "#To find which age are falling below 75%\n",
    "ages = [5,31,43,48,50,41,7,11,15,39,80,82,32,2,8,6,25,36,27,61,31]\n",
    "x = np.percentile(ages, 75)\n",
    "print(x)"
   ]
  },
  {
   "cell_type": "markdown",
   "id": "4b2cffdf-42b6-4861-b8cc-73879952a29a",
   "metadata": {},
   "source": [
    "The above example illustrates that 75% of the people are 43 or younger."
   ]
  },
  {
   "cell_type": "code",
   "execution_count": 29,
   "id": "58054d02-2b0f-4214-a797-2bbd50784bef",
   "metadata": {},
   "outputs": [
    {
     "data": {
      "text/plain": [
       "155.63"
      ]
     },
     "execution_count": 29,
     "metadata": {},
     "output_type": "execute_result"
    }
   ],
   "source": [
    "#create array of 100 random integers distributed between 0 and 500\n",
    "data = np.random.randint(0, 500, 100)\n",
    "#find the 37th percentile of the array\n",
    "np.percentile(data, 37)"
   ]
  },
  {
   "cell_type": "code",
   "execution_count": 30,
   "id": "a5e6c90b-f8a4-41f8-a7f0-282938f54b71",
   "metadata": {},
   "outputs": [
    {
     "data": {
      "text/plain": [
       "array([ 92.25, 223.5 , 398.25])"
      ]
     },
     "execution_count": 30,
     "metadata": {},
     "output_type": "execute_result"
    }
   ],
   "source": [
    "#Find the quartiles (25th, 50th, and 75th percentiles) of the array\n",
    "np.percentile(data, [25, 50, 75])"
   ]
  },
  {
   "cell_type": "markdown",
   "id": "9f9295bd-2b9b-4c78-a371-f42a3cbc1e11",
   "metadata": {},
   "source": [
    "# 8. Linear Regression"
   ]
  },
  {
   "cell_type": "markdown",
   "id": "82b7d58d-149c-48bb-bc4e-aeaa6daa5d72",
   "metadata": {},
   "source": [
    "Linear regression in statistics is used to draw a straight line between different data points that passes through them all. With the help of this line we can also predict the future values."
   ]
  },
  {
   "cell_type": "code",
   "execution_count": 32,
   "id": "07866d8a-fcb2-4b7a-bdcc-52d8d260d304",
   "metadata": {},
   "outputs": [],
   "source": [
    "#we have two sets of datas\n",
    "x = [5,7,8,7,2,17,2,9,4,11,12,9,6]\n",
    "y = [99,86,87,88,111,86,103,87,94,78,77,85,86]"
   ]
  },
  {
   "cell_type": "code",
   "execution_count": 33,
   "id": "b2c5b76f-abe5-415c-9462-6913685e3621",
   "metadata": {},
   "outputs": [],
   "source": [
    "#some important key values of Linear Regression\n",
    "slope, intercept, r, p, std_err = stats.linregress(x, y)"
   ]
  },
  {
   "cell_type": "code",
   "execution_count": 37,
   "id": "ef843f23-7475-49be-b740-6ff0d9db7067",
   "metadata": {},
   "outputs": [],
   "source": [
    "# next we create a function that uses the slope and intercept values to return a new value.\n",
    "#The new value represents where on the y-axis the corresponding x value will be placed.\n",
    "def reg(x):\n",
    "  return slope * x + intercept"
   ]
  },
  {
   "cell_type": "code",
   "execution_count": 38,
   "id": "bb45f662-4ee6-4919-89c9-1085580db107",
   "metadata": {},
   "outputs": [
    {
     "data": {
      "image/png": "[encoded data removed]",
      "text/plain": [
       "<Figure size 432x288 with 1 Axes>"
      ]
     },
     "metadata": {
      "needs_background": "light"
     },
     "output_type": "display_data"
    }
   ],
   "source": [
    "#Run each value of the x array through the function\n",
    "plot = list(map(reg, x))\n",
    "#create scater plot\n",
    "plt.scatter(x, y)\n",
    "#Draw the line of linear regression:\n",
    "plt.plot(x, plot)\n",
    "plt.show()"
   ]
  },
  {
   "cell_type": "markdown",
   "id": "170c69ca-29a4-4885-874a-35aae5bd2bf1",
   "metadata": {},
   "source": [
    "# 9. Binomial Distribution"
   ]
  },
  {
   "cell_type": "markdown",
   "id": "76155cd9-7337-473c-ba61-732d4ec05f98",
   "metadata": {},
   "source": [
    "Binomial distribution is the type of distribution that has two possible outcomes. It can be thought as a probability of predicting success or failure like in case of tossing a fair coin.\n",
    "It takes three parameters, n is number of trials, p is probability of occurence of each trial (e.g. for toss of a coin 0.5 each) and size is the shape of the array."
   ]
  },
  {
   "cell_type": "code",
   "execution_count": 4,
   "id": "384f269b-dee1-43a5-8675-2580a5625620",
   "metadata": {},
   "outputs": [
    {
     "name": "stdout",
     "output_type": "stream",
     "text": [
      "[6 2 4 5 4 5 3 1 5 3 4 4 6 6 3 8 4 2 8 4]\n"
     ]
    }
   ],
   "source": [
    "x = np.random.binomial(n=10, p=0.5, size=20)\n",
    "print(x)"
   ]
  },
  {
   "cell_type": "code",
   "execution_count": 9,
   "id": "5f0f7382-e6ee-4028-8aae-5f0b28e3a6dd",
   "metadata": {},
   "outputs": [
    {
     "data": {
      "text/plain": [
       "<AxesSubplot:>"
      ]
     },
     "execution_count": 9,
     "metadata": {},
     "output_type": "execute_result"
    },
    {
     "data": {
      "image/png": "[encoded data removed]",
      "text/plain": [
       "<Figure size 432x288 with 1 Axes>"
      ]
     },
     "metadata": {
      "needs_background": "light"
     },
     "output_type": "display_data"
    }
   ],
   "source": [
    "#to visualize binomial distribution\n",
    "sns.distplot(np.random.binomial(n=10, p=0.5, size=1000), hist=True, kde= False)"
   ]
  },
  {
   "cell_type": "code",
   "execution_count": 13,
   "id": "8a0fff45-ebf1-430b-b790-04ed0e76081e",
   "metadata": {},
   "outputs": [
    {
     "data": {
      "text/plain": [
       "0.20613038097752118"
      ]
     },
     "execution_count": 13,
     "metadata": {},
     "output_type": "execute_result"
    }
   ],
   "source": [
    "#binom.pmf() calculates the probability of having exactly k heads out of n coin flips.\n",
    "\n",
    "#Dorji makes 70% of his free-throw attempts. \n",
    "#If he shoots 15 free throws, what is the probability that he makes exactly 10?\n",
    "stats.binom.pmf(k=10, n=15, p=0.7)"
   ]
  },
  {
   "cell_type": "code",
   "execution_count": 15,
   "id": "0424f289-fce9-4f09-b8c7-6c3aad621ec7",
   "metadata": {},
   "outputs": [
    {
     "data": {
      "text/plain": [
       "0.6230468749999999"
      ]
     },
     "execution_count": 15,
     "metadata": {},
     "output_type": "execute_result"
    }
   ],
   "source": [
    "#binom.cdf() calculates the probability of having k heads or less out of n coin flips.\n",
    "\n",
    "#Sonam flips a fair coin 10 times. What is the probability she gets heads 5 times or fewer?\n",
    "stats.binom.cdf(k=5, n=10, p=0.5)"
   ]
  },
  {
   "cell_type": "code",
   "execution_count": 3,
   "id": "13c0d2ac-9c42-45b9-8916-afe22cd109af",
   "metadata": {},
   "outputs": [
    {
     "data": {
      "text/plain": [
       "0.3769531250000001"
      ]
     },
     "execution_count": 3,
     "metadata": {},
     "output_type": "execute_result"
    }
   ],
   "source": [
    "#binom.sf() calculates the probability of having more than k heads out of n coin flips.\n",
    "#Sonam flips a fair coin 10 times. What is the probability she gets heads more than 5 times?\n",
    "stats.binom.sf(k=5, n=10, p=0.5)"
   ]
  },
  {
   "cell_type": "markdown",
   "id": "c3fce500-154c-4ffa-b0a6-80b87fa70708",
   "metadata": {},
   "source": [
    "# 10. Continuous vs Discrete Data"
   ]
  },
  {
   "cell_type": "markdown",
   "id": "89cf9d4f-ebb2-4fb8-b79c-99bfe52edede",
   "metadata": {},
   "source": [
    "Discrete data is a count that involves integers. It can only have limited number of values. The discrete values cannot be subdivided into parts.\n",
    "Example: "
   ]
  }
 ],
 "metadata": {
  "colab": {
   "name": "Welcome to DataCamp Workspaces.ipynb",
   "provenance": []
  },
  "kernelspec": {
   "display_name": "Python 3 (ipykernel)",
   "language": "python",
   "name": "python3"
  },
  "language_info": {
   "codemirror_mode": {
    "name": "ipython",
    "version": 3
   },
   "file_extension": ".py",
   "mimetype": "text/x-python",
   "name": "python",
   "nbconvert_exporter": "python",
   "pygments_lexer": "ipython3",
   "version": "3.8.10"
  }
 },
 "nbformat": 4,
 "nbformat_minor": 5
}
