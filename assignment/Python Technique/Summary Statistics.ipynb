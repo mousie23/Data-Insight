{
 "cells": [
  {
   "cell_type": "code",
   "execution_count": 4,
   "id": "23292828-c550-41d5-8ca8-6b8591bee856",
   "metadata": {},
   "outputs": [
    {
     "data": {
      "text/html": [
       "<div>\n",
       "<style scoped>\n",
       "    .dataframe tbody tr th:only-of-type {\n",
       "        vertical-align: middle;\n",
       "    }\n",
       "\n",
       "    .dataframe tbody tr th {\n",
       "        vertical-align: top;\n",
       "    }\n",
       "\n",
       "    .dataframe thead th {\n",
       "        text-align: right;\n",
       "    }\n",
       "</style>\n",
       "<table border=\"1\" class=\"dataframe\">\n",
       "  <thead>\n",
       "    <tr style=\"text-align: right;\">\n",
       "      <th></th>\n",
       "      <th>Name</th>\n",
       "      <th>Breed</th>\n",
       "      <th>Color</th>\n",
       "      <th>Height (cm)</th>\n",
       "      <th>Weight (kg)</th>\n",
       "      <th>Date of Birth</th>\n",
       "    </tr>\n",
       "  </thead>\n",
       "  <tbody>\n",
       "    <tr>\n",
       "      <th>0</th>\n",
       "      <td>Sintu</td>\n",
       "      <td>Labrador</td>\n",
       "      <td>Black</td>\n",
       "      <td>57</td>\n",
       "      <td>32</td>\n",
       "      <td>7/1/2013</td>\n",
       "    </tr>\n",
       "    <tr>\n",
       "      <th>1</th>\n",
       "      <td>Sonam</td>\n",
       "      <td>Schnauzer</td>\n",
       "      <td>Brown</td>\n",
       "      <td>70</td>\n",
       "      <td>72</td>\n",
       "      <td>9/16/2016</td>\n",
       "    </tr>\n",
       "    <tr>\n",
       "      <th>2</th>\n",
       "      <td>Rattu</td>\n",
       "      <td>Poodle</td>\n",
       "      <td>White</td>\n",
       "      <td>45</td>\n",
       "      <td>25</td>\n",
       "      <td>8/25/2014</td>\n",
       "    </tr>\n",
       "    <tr>\n",
       "      <th>3</th>\n",
       "      <td>Dolphie</td>\n",
       "      <td>Chihuahua</td>\n",
       "      <td>Brown</td>\n",
       "      <td>18</td>\n",
       "      <td>7</td>\n",
       "      <td>12/11/2011</td>\n",
       "    </tr>\n",
       "    <tr>\n",
       "      <th>4</th>\n",
       "      <td>Kattu</td>\n",
       "      <td>Labrador</td>\n",
       "      <td>Black</td>\n",
       "      <td>44</td>\n",
       "      <td>23</td>\n",
       "      <td>1/20/2017</td>\n",
       "    </tr>\n",
       "    <tr>\n",
       "      <th>5</th>\n",
       "      <td>Pelki</td>\n",
       "      <td>Chow Chow</td>\n",
       "      <td>Tan</td>\n",
       "      <td>39</td>\n",
       "      <td>25</td>\n",
       "      <td>4/20/2015</td>\n",
       "    </tr>\n",
       "    <tr>\n",
       "      <th>6</th>\n",
       "      <td>Zimba</td>\n",
       "      <td>St. Bernard</td>\n",
       "      <td>Grey</td>\n",
       "      <td>55</td>\n",
       "      <td>30</td>\n",
       "      <td>2/27/2018</td>\n",
       "    </tr>\n",
       "  </tbody>\n",
       "</table>\n",
       "</div>"
      ],
      "text/plain": [
       "      Name        Breed  Color  Height (cm)  Weight (kg) Date of Birth\n",
       "0    Sintu     Labrador  Black           57           32      7/1/2013\n",
       "1    Sonam    Schnauzer  Brown           70           72     9/16/2016\n",
       "2    Rattu       Poodle  White           45           25     8/25/2014\n",
       "3  Dolphie    Chihuahua  Brown           18            7    12/11/2011\n",
       "4    Kattu     Labrador  Black           44           23     1/20/2017\n",
       "5    Pelki    Chow Chow    Tan           39           25     4/20/2015\n",
       "6    Zimba  St. Bernard   Grey           55           30     2/27/2018"
      ]
     },
     "execution_count": 4,
     "metadata": {},
     "output_type": "execute_result"
    }
   ],
   "source": [
    "import pandas as pd\n",
    "import numpy as np\n",
    "\n",
    "df = pd.read_csv('Rectangular Data.csv')\n",
    "df"
   ]
  },
  {
   "cell_type": "code",
   "execution_count": 6,
   "id": "10bef935-0fc7-4ab4-a362-3d01553314cc",
   "metadata": {},
   "outputs": [
    {
     "data": {
      "text/plain": [
       "46.857142857142854"
      ]
     },
     "execution_count": 6,
     "metadata": {},
     "output_type": "execute_result"
    }
   ],
   "source": [
    "#mean of Height\n",
    "df['Height (cm)'].mean()"
   ]
  },
  {
   "cell_type": "code",
   "execution_count": 9,
   "id": "91097370-aa6e-479b-844d-a9da4aff2892",
   "metadata": {},
   "outputs": [
    {
     "data": {
      "text/plain": [
       "'1/20/2017'"
      ]
     },
     "execution_count": 9,
     "metadata": {},
     "output_type": "execute_result"
    }
   ],
   "source": [
    "#Oldest and latest Date\n",
    "df['Date of Birth'].min()\n"
   ]
  },
  {
   "cell_type": "code",
   "execution_count": 8,
   "id": "603060fe-657e-4e2d-860c-d31a188e2494",
   "metadata": {},
   "outputs": [
    {
     "data": {
      "text/plain": [
       "'9/16/2016'"
      ]
     },
     "execution_count": 8,
     "metadata": {},
     "output_type": "execute_result"
    }
   ],
   "source": [
    "df['Date of Birth'].max()"
   ]
  },
  {
   "cell_type": "code",
   "execution_count": 14,
   "id": "b7d94447-1e36-4698-a12d-964a5e7dfce0",
   "metadata": {},
   "outputs": [
    {
     "data": {
      "text/plain": [
       "0     32\n",
       "1    104\n",
       "2    129\n",
       "3    136\n",
       "4    159\n",
       "5    184\n",
       "6    214\n",
       "Name: Weight (kg), dtype: int64"
      ]
     },
     "execution_count": 14,
     "metadata": {},
     "output_type": "execute_result"
    }
   ],
   "source": [
    "#Cumulative sum\n",
    "df['Weight (kg)'].cumsum()\n"
   ]
  }
 ],
 "metadata": {
  "kernelspec": {
   "display_name": "Python 3 (ipykernel)",
   "language": "python",
   "name": "python3"
  },
  "language_info": {
   "codemirror_mode": {
    "name": "ipython",
    "version": 3
   },
   "file_extension": ".py",
   "mimetype": "text/x-python",
   "name": "python",
   "nbconvert_exporter": "python",
   "pygments_lexer": "ipython3",
   "version": "3.8.10"
  }
 },
 "nbformat": 4,
 "nbformat_minor": 5
}
