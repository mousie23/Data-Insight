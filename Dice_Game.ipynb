{
 "cells": [
  {
   "cell_type": "code",
   "execution_count": 3,
   "id": "121dc259",
   "metadata": {},
   "outputs": [
    {
     "name": "stdout",
     "output_type": "stream",
     "text": [
      "Player 1 scored : 3\n",
      "player 2 scored : 2\n",
      "Player 1 won\n"
     ]
    }
   ],
   "source": [
    "#importing random module to generate random number\n",
    "import random\n",
    "\n",
    "#Get random number between 1 and 6 for each players\n",
    "player1_score = random.randint(1,6)\n",
    "player2_score = random.randint(1,6)\n",
    "\n",
    "#display the result\n",
    "print('Player 1 scored : ' + str(player1_score))\n",
    "print('player 2 scored : ' + str(player2_score))\n",
    "\n",
    "#winner declaration\n",
    "if player1_score > player2_score :\n",
    "    print('Player 1 won')\n",
    "elif player1_score < player1_score :\n",
    "    print('Player 2 won')\n",
    "else:\n",
    "    print('It is a draw')"
   ]
  }
 ],
 "metadata": {
  "kernelspec": {
   "display_name": "Python 3",
   "language": "python",
   "name": "python3"
  },
  "language_info": {
   "codemirror_mode": {
    "name": "ipython",
    "version": 3
   },
   "file_extension": ".py",
   "mimetype": "text/x-python",
   "name": "python",
   "nbconvert_exporter": "python",
   "pygments_lexer": "ipython3",
   "version": "3.8.8"
  }
 },
 "nbformat": 4,
 "nbformat_minor": 5
}
