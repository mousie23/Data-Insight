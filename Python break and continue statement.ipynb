{
 "cells": [
  {
   "cell_type": "code",
   "execution_count": 1,
   "id": "95a2dc36",
   "metadata": {},
   "outputs": [
    {
     "name": "stdout",
     "output_type": "stream",
     "text": [
      "p\n",
      "y\n",
      "end\n"
     ]
    }
   ],
   "source": [
    "#break statement\n",
    "#terminates the loop containing it\n",
    "\n",
    "for val in 'python':\n",
    "    if val == 't':\n",
    "        break\n",
    "    print(val)\n",
    "print('end')"
   ]
  },
  {
   "cell_type": "code",
   "execution_count": 3,
   "id": "808eb7bf",
   "metadata": {},
   "outputs": [
    {
     "name": "stdout",
     "output_type": "stream",
     "text": [
      "p\n",
      "y\n",
      "h\n",
      "o\n",
      "n\n",
      "end\n"
     ]
    }
   ],
   "source": [
    "#continue statement\n",
    "#skips the loop containing it\n",
    "for val in 'python':\n",
    "    if val == 't':\n",
    "        continue\n",
    "    print(val)\n",
    "print('end')"
   ]
  }
 ],
 "metadata": {
  "kernelspec": {
   "display_name": "Python 3",
   "language": "python",
   "name": "python3"
  },
  "language_info": {
   "codemirror_mode": {
    "name": "ipython",
    "version": 3
   },
   "file_extension": ".py",
   "mimetype": "text/x-python",
   "name": "python",
   "nbconvert_exporter": "python",
   "pygments_lexer": "ipython3",
   "version": "3.8.8"
  }
 },
 "nbformat": 4,
 "nbformat_minor": 5
}
